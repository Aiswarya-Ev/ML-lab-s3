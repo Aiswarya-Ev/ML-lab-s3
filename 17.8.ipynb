{
 "cells": [
  {
   "cell_type": "code",
   "execution_count": 1,
   "id": "710aa02a",
   "metadata": {},
   "outputs": [
    {
     "name": "stdout",
     "output_type": "stream",
     "text": [
      "checkerbord pattern\n",
      "[[0 1 0 1 0 1 0 1]\n",
      " [1 0 1 0 1 0 1 0]\n",
      " [0 1 0 1 0 1 0 1]\n",
      " [1 0 1 0 1 0 1 0]\n",
      " [0 1 0 1 0 1 0 1]\n",
      " [1 0 1 0 1 0 1 0]\n",
      " [0 1 0 1 0 1 0 1]\n",
      " [1 0 1 0 1 0 1 0]]\n"
     ]
    }
   ],
   "source": [
    "import numpy as np\n",
    "print(\"checkerbord pattern\")\n",
    "x=np.zeros((8,8),dtype=int)\n",
    "x[1::2,::2]=1\n",
    "x[::2,1::2]=1\n",
    "print(x)"
   ]
  },
  {
   "cell_type": "code",
   "execution_count": 8,
   "id": "8de1a361",
   "metadata": {},
   "outputs": [
    {
     "name": "stdout",
     "output_type": "stream",
     "text": [
      "first array\n",
      "[1 2 3 4 5]\n",
      "second array\n",
      "[1 3 5]\n",
      "[ True False  True False  True]\n"
     ]
    }
   ],
   "source": [
    "a=np.array([1,2,3,4,5])\n",
    "print(\"first array\")\n",
    "print(a)\n",
    "b=np.array([1,3,5])\n",
    "print(\"second array\")\n",
    "print(b)\n",
    "print(np.in1d(a,b))"
   ]
  },
  {
   "cell_type": "code",
   "execution_count": 9,
   "id": "b0d0b2b6",
   "metadata": {},
   "outputs": [
    {
     "name": "stdout",
     "output_type": "stream",
     "text": [
      "first array\n",
      "[1 2 3 4 5]\n",
      "second array\n",
      "[1 3 5 9]\n",
      "intersection\n",
      "[1 3 5]\n",
      "union\n",
      "[1 2 3 4 5 9]\n"
     ]
    }
   ],
   "source": [
    "a=np.array([1,2,3,4,5])\n",
    "print(\"first array\")\n",
    "print(a)\n",
    "b=np.array([1,3,5,9])\n",
    "print(\"second array\")\n",
    "print(b)\n",
    "print(\"intersection\")\n",
    "print(np.intersect1d(a,b))\n",
    "print(\"union\")\n",
    "print(np.union1d(a,b))"
   ]
  },
  {
   "cell_type": "code",
   "execution_count": 7,
   "id": "1d4d4184",
   "metadata": {},
   "outputs": [
    {
     "name": "stdout",
     "output_type": "stream",
     "text": [
      "[1 3 4 5 6 7]\n"
     ]
    }
   ],
   "source": [
    "r=np.array([1,1,3,4,5,6,7])\n",
    "print(np.unique(r))"
   ]
  },
  {
   "cell_type": "code",
   "execution_count": 11,
   "id": "11d6c5cb",
   "metadata": {},
   "outputs": [
    {
     "name": "stdout",
     "output_type": "stream",
     "text": [
      "array: [9 8 6 5 3 1]\n",
      "type: <class 'numpy.ndarray'>\n",
      "list: [9, 8, 6, 5, 3, 1]\n",
      "<class 'list'>\n"
     ]
    }
   ],
   "source": [
    "s=np.array([9,8,6,5,3,1])\n",
    "print(\"array:\",s)\n",
    "print(\"type:\",type(s))\n",
    "l=s.tolist()\n",
    "print(\"list:\",l)\n",
    "print(type(l))"
   ]
  },
  {
   "cell_type": "code",
   "execution_count": 16,
   "id": "7df6a886",
   "metadata": {},
   "outputs": [
    {
     "name": "stdout",
     "output_type": "stream",
     "text": [
      "enter no.of element5\n",
      "hello\n",
      "hi\n",
      "ok\n",
      "ok\n",
      "hi\n",
      "enter the number want to be removeok\n",
      "['hello', 'hi', 'hi']\n"
     ]
    }
   ],
   "source": [
    "n=int(input(\"enter no.of element\"))\n",
    "l=[]\n",
    "for i in range(n):\n",
    "    l.append(input())\n",
    "k=input(\"enter the number want to be remove\")\n",
    "while(l.count(k)>0):\n",
    "    l.remove(k)\n",
    "print(l)\n"
   ]
  },
  {
   "cell_type": "code",
   "execution_count": 14,
   "id": "eb5c5e9a",
   "metadata": {},
   "outputs": [
    {
     "name": "stdout",
     "output_type": "stream",
     "text": [
      "checkerbord pattern\n",
      "[[0 0 0 0 1 1 1 1]\n",
      " [1 1 1 1 0 0 0 0]\n",
      " [0 0 0 0 1 1 1 1]\n",
      " [1 1 1 1 0 0 0 0]\n",
      " [0 0 0 0 1 1 1 1]\n",
      " [1 1 1 1 0 0 0 0]\n",
      " [0 0 0 0 1 1 1 1]\n",
      " [1 1 1 1 0 0 0 0]]\n"
     ]
    }
   ],
   "source": [
    "print(\"checkerbord pattern\")\n",
    "x=np.zeros((8,8),dtype=int)\n",
    "x[::2,4::]=1\n",
    "x[1::2,:4:]=1\n",
    "print(x)"
   ]
  },
  {
   "cell_type": "code",
   "execution_count": 28,
   "id": "956a0ba6",
   "metadata": {},
   "outputs": [
    {
     "name": "stdout",
     "output_type": "stream",
     "text": [
      "checkerbord pattern\n",
      "[[1 1 0 0 1 1 0 0]\n",
      " [0 0 1 1 0 0 1 1]\n",
      " [1 1 0 0 0 0 1 1]\n",
      " [0 0 1 1 1 1 0 0]\n",
      " [1 1 0 0 0 0 1 1]\n",
      " [0 0 1 1 1 1 0 0]\n",
      " [1 1 0 0 0 0 1 1]\n",
      " [0 0 1 1 0 0 1 1]]\n"
     ]
    }
   ],
   "source": [
    "print(\"checkerbord pattern\")\n",
    "x=np.zeros((8,8),dtype=int)\n",
    "x[0,:2:]=1\n",
    "x[0,4:6:]=1\n",
    "x[1::6,2:4:]=1\n",
    "x[1::6,6::]=1\n",
    "x[3:6:2,2:4:]=1\n",
    "x[3:6:2,4:6:]=1\n",
    "x[2:7:2,:2:]=1\n",
    "x[2:7:2,6::]=1\n",
    "print(x)"
   ]
  },
  {
   "cell_type": "code",
   "execution_count": null,
   "id": "89da061f",
   "metadata": {},
   "outputs": [],
   "source": []
  }
 ],
 "metadata": {
  "kernelspec": {
   "display_name": "Python 3 (ipykernel)",
   "language": "python",
   "name": "python3"
  },
  "language_info": {
   "codemirror_mode": {
    "name": "ipython",
    "version": 3
   },
   "file_extension": ".py",
   "mimetype": "text/x-python",
   "name": "python",
   "nbconvert_exporter": "python",
   "pygments_lexer": "ipython3",
   "version": "3.9.12"
  }
 },
 "nbformat": 4,
 "nbformat_minor": 5
}
