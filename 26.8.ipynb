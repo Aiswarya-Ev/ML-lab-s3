{
 "cells": [
  {
   "cell_type": "markdown",
   "id": "e1eadd04",
   "metadata": {},
   "source": [
    "# DataFrame"
   ]
  },
  {
   "cell_type": "code",
   "execution_count": null,
   "id": "7da2b512",
   "metadata": {},
   "outputs": [],
   "source": [
    "Aiswarya E V________________________________________________________________________________________Date:26/10/202"
   ]
  },
  {
   "cell_type": "code",
   "execution_count": 3,
   "id": "fdf6afc0",
   "metadata": {},
   "outputs": [
    {
     "name": "stdout",
     "output_type": "stream",
     "text": [
      "0    1\n",
      "1    2\n",
      "2    3\n",
      "3    4\n",
      "dtype: int64\n"
     ]
    }
   ],
   "source": [
    "import pandas as pd\n",
    "arr=[1,2,3,4]\n",
    "a=pd.Series(arr)\n",
    "print(a)"
   ]
  },
  {
   "cell_type": "code",
   "execution_count": 4,
   "id": "2dc1ac64",
   "metadata": {},
   "outputs": [
    {
     "name": "stdout",
     "output_type": "stream",
     "text": [
      "Sum: 0     3\n",
      "1     6\n",
      "2     8\n",
      "3    11\n",
      "dtype: int64\n",
      "difference: 0   -1\n",
      "1   -2\n",
      "2   -2\n",
      "3   -3\n",
      "dtype: int64\n",
      "product: 0     2\n",
      "1     8\n",
      "2    15\n",
      "3    28\n",
      "dtype: int64\n",
      "Division: 0    0.500000\n",
      "1    0.500000\n",
      "2    0.600000\n",
      "3    0.571429\n",
      "dtype: float64\n"
     ]
    }
   ],
   "source": [
    "data1=pd.Series([1,2,3,4])\n",
    "data2=pd.Series([2,4,5,7])\n",
    "dsum=data1+data2\n",
    "print(\"Sum:\",dsum)\n",
    "dsub=data1-data2\n",
    "print(\"difference:\",dsub)\n",
    "dmul=data1*data2\n",
    "print(\"product:\",dmul)\n",
    "dd=data1/data2\n",
    "print(\"Division:\",dd)"
   ]
  },
  {
   "cell_type": "code",
   "execution_count": 15,
   "id": "a2de4a06",
   "metadata": {},
   "outputs": [
    {
     "name": "stdout",
     "output_type": "stream",
     "text": [
      "  name  score qualify\n",
      "0    A   12.5     yes\n",
      "1    B    9.0      no\n",
      "2    C    NaN     yes\n"
     ]
    }
   ],
   "source": [
    "import numpy as np\n",
    "import pandas as pd\n",
    "exam={\"name\":[\"A\",\"B\",\"C\"],\"score\":[12.5,9,np.nan],\"qualify\":[\"yes\",\"no\",\"yes\"]}\n",
    "df=pd.DataFrame(exam)\n",
    "df.to_csv('exam_data.csv',index=False)\n",
    "df=pd.read_csv('exam_data.csv')\n",
    "print(df)"
   ]
  },
  {
   "cell_type": "code",
   "execution_count": 31,
   "id": "c630ed6e",
   "metadata": {},
   "outputs": [
    {
     "name": "stdout",
     "output_type": "stream",
     "text": [
      "  name  score  attempts qualify\n",
      "0    A   12.5         1     yes\n",
      "1    B    9.0         3      no\n",
      "2    C    NaN         2     yes\n",
      "3    D    2.0         3      no\n",
      "4    E    3.0         1     yes\n",
      "5    F    4.0         1     yes\n",
      "6    G    5.0         2      no\n",
      "7    H    6.0         3     yes\n",
      "8    I    7.0         1      no\n",
      "9    J   11.0         2     yes\n",
      "  name qualify\n",
      "0    A     yes\n",
      "1    B      no\n",
      "2    C     yes\n",
      "3    D      no\n",
      "4    E     yes\n",
      "5    F     yes\n",
      "6    G      no\n",
      "7    H     yes\n",
      "8    I      no\n",
      "9    J     yes\n",
      "  name  score  attempts qualify\n",
      "1    B    9.0         3      no\n",
      "3    D    2.0         3      no\n",
      "7    H    6.0         3     yes\n",
      "10\n",
      "4\n",
      "  name  score  attempts qualify\n",
      "0    A   12.5         1     yes\n",
      "  name  score  attempts qualify\n",
      "2    C    NaN         2     yes\n"
     ]
    }
   ],
   "source": [
    "#Import numpy as np\n",
    "exam_data  = {\"name\":['A','B','C','D','E','F','G','H','I','J'],\"score\":[12.5, 9, np.nan,2,3,4,5,6,7,11],\"attempts\": [1,3,2,3,1,1,2,3,1,2],'qualify': ['yes', 'no', 'yes','no','yes','yes','no','yes',\"no\",'yes']}\n",
    "df=pd.DataFrame(exam_data)\n",
    "print(df)\n",
    "print(df[['name','qualify']])\n",
    "print(df[df[\"attempts\"]>2])\n",
    "row=len(df.axes[0])\n",
    "print(row)\n",
    "w1=len(df.axes[1])\n",
    "print(w1)\n",
    "print(df[(df['attempts']<2)&(df[\"score\"]>10)])\n",
    "print(df[df[\"score\"].isnull()])"
   ]
  },
  {
   "cell_type": "code",
   "execution_count": 56,
   "id": "e18044d2",
   "metadata": {},
   "outputs": [
    {
     "name": "stdout",
     "output_type": "stream",
     "text": [
      "   id name  ages degree  cgpa\n",
      "0   1    A  21.0    mca   7.5\n",
      "1   2    B  20.0    msc   8.0\n",
      "2   3    C  22.0    mca   9.0\n",
      "3   4    D  23.0    msc   9.0\n",
      "4   5    E  20.0    msc   NaN\n",
      "5   6    F   NaN    mca   8.0\n",
      "   id name  ages degree  cgpa   class\n",
      "0   1    A  21.0    mca   7.5   first\n",
      "1   2    B  20.0    msc   8.0  second\n",
      "2   3    C  22.0    mca   9.0   first\n",
      "3   4    D  23.0    msc   9.0   first\n",
      "4   5    E  20.0    msc   NaN  second\n",
      "5   6    F   NaN    mca   8.0  second\n",
      "no.of cloumns: 6\n",
      "   id name  ages degree  cgpa   class\n",
      "0   1    A  21.0    mca   7.5   first\n",
      "1   2    B  20.0    msc   8.0  second\n",
      "2   3    C  22.0    mca   9.0   first\n",
      "   id name  ages degree  cgpa   class\n",
      "2   3    C  22.0    mca   9.0   first\n",
      "3   4    D  23.0    msc   9.0   first\n",
      "4   5    E  20.0    msc   NaN  second\n",
      "5   6    F   NaN    mca   8.0  second\n",
      "  name  ages degree  cgpa   class\n",
      "0    A  21.0    mca   7.5   first\n",
      "1    B  20.0    msc   8.0  second\n",
      "2    C  22.0    mca   9.0   first\n",
      "3    D  23.0    msc   9.0   first\n",
      "4    E  20.0    msc   NaN  second\n",
      "5    F   NaN    mca   8.0  second\n",
      "e\n",
      "  name  cgpa\n",
      "1    B   8.0\n",
      "2    C   9.0\n",
      "3    D   9.0\n",
      "4    E   NaN\n",
      "  name  ages degree  cgpa   class\n",
      "0    A  21.0    mca   7.5   first\n",
      "1    B  20.0    msc   8.0  second\n",
      "2    C  22.0    mca   9.0   first\n",
      "3    D  23.0    msc   9.0   first\n",
      "4    E  20.0    msc   NaN  second\n",
      "5    F  21.2    mca   8.0  second\n"
     ]
    }
   ],
   "source": [
    "student={'id':[1,2,3,4,5,6],\"name\":['A','B','C','D','E','F'],\"ages\":[21,20,22,23,20,np.nan],\"degree\":['mca','msc','mca','msc','msc','mca'],\"cgpa\":[7.5,8,9,9,np.nan,8]}\n",
    "df=pd.DataFrame(student)\n",
    "print(df)\n",
    "clas=['first','second','first','first','second','second']\n",
    "df['class']=clas\n",
    "print(df)\n",
    "cn=len(df.axes[1])\n",
    "print(\"no.of cloumns:\",cn)\n",
    "print(df.head(3))\n",
    "print(df.tail(4))\n",
    "df.dropna()\n",
    "df=df.drop(columns=['id'])\n",
    "print(df)\n",
    "d=df.head(5)\n",
    "d=d.tail(4)\n",
    "d=d[[\"name\",\"cgpa\"]]\n",
    "print(\"e\")\n",
    "print(d)\n",
    "mean=df[\"ages\"].mean()\n",
    "df[\"ages\"]=df['ages'].fillna(mean)\n",
    "print(df)"
   ]
  },
  {
   "cell_type": "code",
   "execution_count": null,
   "id": "0973a2a9",
   "metadata": {},
   "outputs": [],
   "source": []
  }
 ],
 "metadata": {
  "kernelspec": {
   "display_name": "Python 3 (ipykernel)",
   "language": "python",
   "name": "python3"
  },
  "language_info": {
   "codemirror_mode": {
    "name": "ipython",
    "version": 3
   },
   "file_extension": ".py",
   "mimetype": "text/x-python",
   "name": "python",
   "nbconvert_exporter": "python",
   "pygments_lexer": "ipython3",
   "version": "3.9.12"
  }
 },
 "nbformat": 4,
 "nbformat_minor": 5
}
