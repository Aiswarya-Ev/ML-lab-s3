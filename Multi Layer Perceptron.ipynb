{
 "cells": [
  {
   "cell_type": "markdown",
   "id": "dde519a4",
   "metadata": {},
   "source": [
    "# Multi Layer Perceptron\n",
    "\n",
    "###Aiswarya EV______________________________________________________________________________________4/11/2022"
   ]
  },
  {
   "cell_type": "code",
   "execution_count": 1,
   "id": "d5731277",
   "metadata": {},
   "outputs": [],
   "source": [
    "import pandas as pd\n",
    "import numpy as np\n",
    "import matplotlib.pyplot as plt\n",
    "import sklearn\n",
    "from sklearn.neural_network import MLPClassifier"
   ]
  },
  {
   "cell_type": "code",
   "execution_count": 3,
   "id": "0e8c0e73",
   "metadata": {},
   "outputs": [
    {
     "name": "stdout",
     "output_type": "stream",
     "text": [
      "(768, 9)\n"
     ]
    },
    {
     "data": {
      "text/html": [
       "<div>\n",
       "<style scoped>\n",
       "    .dataframe tbody tr th:only-of-type {\n",
       "        vertical-align: middle;\n",
       "    }\n",
       "\n",
       "    .dataframe tbody tr th {\n",
       "        vertical-align: top;\n",
       "    }\n",
       "\n",
       "    .dataframe thead th {\n",
       "        text-align: right;\n",
       "    }\n",
       "</style>\n",
       "<table border=\"1\" class=\"dataframe\">\n",
       "  <thead>\n",
       "    <tr style=\"text-align: right;\">\n",
       "      <th></th>\n",
       "      <th>count</th>\n",
       "      <th>mean</th>\n",
       "      <th>std</th>\n",
       "      <th>min</th>\n",
       "      <th>25%</th>\n",
       "      <th>50%</th>\n",
       "      <th>75%</th>\n",
       "      <th>max</th>\n",
       "    </tr>\n",
       "  </thead>\n",
       "  <tbody>\n",
       "    <tr>\n",
       "      <th>Pregnancies</th>\n",
       "      <td>768.0</td>\n",
       "      <td>3.845052</td>\n",
       "      <td>3.369578</td>\n",
       "      <td>0.000</td>\n",
       "      <td>1.00000</td>\n",
       "      <td>3.0000</td>\n",
       "      <td>6.00000</td>\n",
       "      <td>17.00</td>\n",
       "    </tr>\n",
       "    <tr>\n",
       "      <th>Glucose</th>\n",
       "      <td>768.0</td>\n",
       "      <td>120.894531</td>\n",
       "      <td>31.972618</td>\n",
       "      <td>0.000</td>\n",
       "      <td>99.00000</td>\n",
       "      <td>117.0000</td>\n",
       "      <td>140.25000</td>\n",
       "      <td>199.00</td>\n",
       "    </tr>\n",
       "    <tr>\n",
       "      <th>BloodPressure</th>\n",
       "      <td>768.0</td>\n",
       "      <td>69.105469</td>\n",
       "      <td>19.355807</td>\n",
       "      <td>0.000</td>\n",
       "      <td>62.00000</td>\n",
       "      <td>72.0000</td>\n",
       "      <td>80.00000</td>\n",
       "      <td>122.00</td>\n",
       "    </tr>\n",
       "    <tr>\n",
       "      <th>SkinThickness</th>\n",
       "      <td>768.0</td>\n",
       "      <td>20.536458</td>\n",
       "      <td>15.952218</td>\n",
       "      <td>0.000</td>\n",
       "      <td>0.00000</td>\n",
       "      <td>23.0000</td>\n",
       "      <td>32.00000</td>\n",
       "      <td>99.00</td>\n",
       "    </tr>\n",
       "    <tr>\n",
       "      <th>Insulin</th>\n",
       "      <td>768.0</td>\n",
       "      <td>79.799479</td>\n",
       "      <td>115.244002</td>\n",
       "      <td>0.000</td>\n",
       "      <td>0.00000</td>\n",
       "      <td>30.5000</td>\n",
       "      <td>127.25000</td>\n",
       "      <td>846.00</td>\n",
       "    </tr>\n",
       "    <tr>\n",
       "      <th>BMI</th>\n",
       "      <td>768.0</td>\n",
       "      <td>31.992578</td>\n",
       "      <td>7.884160</td>\n",
       "      <td>0.000</td>\n",
       "      <td>27.30000</td>\n",
       "      <td>32.0000</td>\n",
       "      <td>36.60000</td>\n",
       "      <td>67.10</td>\n",
       "    </tr>\n",
       "    <tr>\n",
       "      <th>DiabetesPedigreeFunction</th>\n",
       "      <td>768.0</td>\n",
       "      <td>0.471876</td>\n",
       "      <td>0.331329</td>\n",
       "      <td>0.078</td>\n",
       "      <td>0.24375</td>\n",
       "      <td>0.3725</td>\n",
       "      <td>0.62625</td>\n",
       "      <td>2.42</td>\n",
       "    </tr>\n",
       "    <tr>\n",
       "      <th>Age</th>\n",
       "      <td>768.0</td>\n",
       "      <td>33.240885</td>\n",
       "      <td>11.760232</td>\n",
       "      <td>21.000</td>\n",
       "      <td>24.00000</td>\n",
       "      <td>29.0000</td>\n",
       "      <td>41.00000</td>\n",
       "      <td>81.00</td>\n",
       "    </tr>\n",
       "    <tr>\n",
       "      <th>Outcome</th>\n",
       "      <td>768.0</td>\n",
       "      <td>0.348958</td>\n",
       "      <td>0.476951</td>\n",
       "      <td>0.000</td>\n",
       "      <td>0.00000</td>\n",
       "      <td>0.0000</td>\n",
       "      <td>1.00000</td>\n",
       "      <td>1.00</td>\n",
       "    </tr>\n",
       "  </tbody>\n",
       "</table>\n",
       "</div>"
      ],
      "text/plain": [
       "                          count        mean         std     min       25%  \\\n",
       "Pregnancies               768.0    3.845052    3.369578   0.000   1.00000   \n",
       "Glucose                   768.0  120.894531   31.972618   0.000  99.00000   \n",
       "BloodPressure             768.0   69.105469   19.355807   0.000  62.00000   \n",
       "SkinThickness             768.0   20.536458   15.952218   0.000   0.00000   \n",
       "Insulin                   768.0   79.799479  115.244002   0.000   0.00000   \n",
       "BMI                       768.0   31.992578    7.884160   0.000  27.30000   \n",
       "DiabetesPedigreeFunction  768.0    0.471876    0.331329   0.078   0.24375   \n",
       "Age                       768.0   33.240885   11.760232  21.000  24.00000   \n",
       "Outcome                   768.0    0.348958    0.476951   0.000   0.00000   \n",
       "\n",
       "                               50%        75%     max  \n",
       "Pregnancies                 3.0000    6.00000   17.00  \n",
       "Glucose                   117.0000  140.25000  199.00  \n",
       "BloodPressure              72.0000   80.00000  122.00  \n",
       "SkinThickness              23.0000   32.00000   99.00  \n",
       "Insulin                    30.5000  127.25000  846.00  \n",
       "BMI                        32.0000   36.60000   67.10  \n",
       "DiabetesPedigreeFunction    0.3725    0.62625    2.42  \n",
       "Age                        29.0000   41.00000   81.00  \n",
       "Outcome                     0.0000    1.00000    1.00  "
      ]
     },
     "execution_count": 3,
     "metadata": {},
     "output_type": "execute_result"
    }
   ],
   "source": [
    "df = pd.read_csv('diabetes.csv')\n",
    "print(df.shape)\n",
    "df.describe().transpose()"
   ]
  },
  {
   "cell_type": "code",
   "execution_count": 4,
   "id": "f08054ca",
   "metadata": {},
   "outputs": [
    {
     "name": "stdout",
     "output_type": "stream",
     "text": [
      "0      1\n",
      "1      0\n",
      "2      1\n",
      "3      0\n",
      "4      1\n",
      "      ..\n",
      "763    0\n",
      "764    0\n",
      "765    0\n",
      "766    1\n",
      "767    0\n",
      "Name: Outcome, Length: 768, dtype: int64\n",
      "     Pregnancies  Glucose  BloodPressure  SkinThickness  Insulin   BMI  \\\n",
      "0              6      148             72             35        0  33.6   \n",
      "1              1       85             66             29        0  26.6   \n",
      "2              8      183             64              0        0  23.3   \n",
      "3              1       89             66             23       94  28.1   \n",
      "4              0      137             40             35      168  43.1   \n",
      "..           ...      ...            ...            ...      ...   ...   \n",
      "763           10      101             76             48      180  32.9   \n",
      "764            2      122             70             27        0  36.8   \n",
      "765            5      121             72             23      112  26.2   \n",
      "766            1      126             60              0        0  30.1   \n",
      "767            1       93             70             31        0  30.4   \n",
      "\n",
      "     DiabetesPedigreeFunction  Age  \n",
      "0                       0.627   50  \n",
      "1                       0.351   31  \n",
      "2                       0.672   32  \n",
      "3                       0.167   21  \n",
      "4                       2.288   33  \n",
      "..                        ...  ...  \n",
      "763                     0.171   63  \n",
      "764                     0.340   27  \n",
      "765                     0.245   30  \n",
      "766                     0.349   47  \n",
      "767                     0.315   23  \n",
      "\n",
      "[768 rows x 8 columns]\n"
     ]
    }
   ],
   "source": [
    "y=df['Outcome']\n",
    "print(y)\n",
    "df=df.drop(['Outcome'],axis=1)\n",
    "x= df\n",
    "print(x)"
   ]
  },
  {
   "cell_type": "code",
   "execution_count": 11,
   "id": "29473314",
   "metadata": {},
   "outputs": [],
   "source": [
    "from sklearn.model_selection import train_test_split"
   ]
  },
  {
   "cell_type": "code",
   "execution_count": 14,
   "id": "2b52f2a9",
   "metadata": {},
   "outputs": [],
   "source": [
    "x_train,x_test,y_train,y_test=train_test_split(x,y,test_size= 0.25,random_state=0)"
   ]
  },
  {
   "cell_type": "code",
   "execution_count": 15,
   "id": "a912944c",
   "metadata": {},
   "outputs": [
    {
     "name": "stdout",
     "output_type": "stream",
     "text": [
      "(576, 8)\n"
     ]
    }
   ],
   "source": [
    "print(x_train.shape)"
   ]
  },
  {
   "cell_type": "code",
   "execution_count": 16,
   "id": "ee3171da",
   "metadata": {},
   "outputs": [
    {
     "name": "stdout",
     "output_type": "stream",
     "text": [
      "(192, 8)\n"
     ]
    }
   ],
   "source": [
    "print(x_test.shape)"
   ]
  },
  {
   "cell_type": "code",
   "execution_count": 18,
   "id": "cf92adf9",
   "metadata": {},
   "outputs": [],
   "source": [
    "from sklearn.preprocessing import MinMaxScaler"
   ]
  },
  {
   "cell_type": "code",
   "execution_count": 19,
   "id": "e9d1c4c4",
   "metadata": {},
   "outputs": [],
   "source": [
    "st_x=MinMaxScaler()"
   ]
  },
  {
   "cell_type": "code",
   "execution_count": 20,
   "id": "30e8aa7d",
   "metadata": {},
   "outputs": [
    {
     "name": "stdout",
     "output_type": "stream",
     "text": [
      "[[0.07692308 1.         0.66666667 ... 0.81096408 0.72169548 0.02272727]\n",
      " [0.15384615 0.53768844 0.64912281 ... 0.63516068 0.16954824 0.04545455]\n",
      " [0.30769231 0.38190955 0.54385965 ... 0.64272212 0.16229782 0.09090909]\n",
      " ...\n",
      " [0.07692308 0.54773869 0.52631579 ... 0.48015123 0.47239264 0.        ]\n",
      " [0.23076923 0.64321608 0.68421053 ... 0.39886578 0.09369771 0.77272727]\n",
      " [0.38461538 0.44221106 0.68421053 ... 0.52173913 0.08812047 0.36363636]]\n"
     ]
    }
   ],
   "source": [
    "x_train=st_x.fit_transform(x_train)\n",
    "x_test=st_x.fit_transform(x_test)\n",
    "print(x_test)"
   ]
  },
  {
   "cell_type": "code",
   "execution_count": 25,
   "id": "52f1ba02",
   "metadata": {},
   "outputs": [],
   "source": [
    "classifier = MLPClassifier(hidden_layer_sizes=(8,8,8),activation='relu',solver='adam',max_iter=500)\n",
    "classifier.fit(x_train,y_train)\n",
    "x_pred=classifier.predict(x_train)\n",
    "y_pred=classifier.predict(x_test)"
   ]
  },
  {
   "cell_type": "code",
   "execution_count": 29,
   "id": "377808ec",
   "metadata": {},
   "outputs": [
    {
     "name": "stdout",
     "output_type": "stream",
     "text": [
      "(192,)\n",
      "(192,)\n"
     ]
    }
   ],
   "source": [
    "print(y_test.shape)\n",
    "print(y_pred.shape)"
   ]
  },
  {
   "cell_type": "code",
   "execution_count": 28,
   "id": "904dfc22",
   "metadata": {},
   "outputs": [
    {
     "name": "stdout",
     "output_type": "stream",
     "text": [
      "[[100  30]\n",
      " [ 14  48]]\n"
     ]
    }
   ],
   "source": [
    "from sklearn.metrics import confusion_matrix\n",
    "cm=confusion_matrix(y_test,y_pred)\n",
    "print(cm)"
   ]
  },
  {
   "cell_type": "code",
   "execution_count": 30,
   "id": "6d4dcfda",
   "metadata": {},
   "outputs": [
    {
     "data": {
      "text/plain": [
       "<sklearn.metrics._plot.confusion_matrix.ConfusionMatrixDisplay at 0x7f5cbaf1c550>"
      ]
     },
     "execution_count": 30,
     "metadata": {},
     "output_type": "execute_result"
    },
    {
     "data": {
      "image/png": "[encoded data removed]",
      "text/plain": [
       "<Figure size 432x288 with 2 Axes>"
      ]
     },
     "metadata": {
      "needs_background": "light"
     },
     "output_type": "display_data"
    }
   ],
   "source": [
    "from sklearn.metrics import ConfusionMatrixDisplay\n",
    "disp = ConfusionMatrixDisplay(confusion_matrix=cm,\n",
    "display_labels=classifier.classes_)\n",
    "disp.plot()"
   ]
  },
  {
   "cell_type": "code",
   "execution_count": 31,
   "id": "e4bf1303",
   "metadata": {},
   "outputs": [
    {
     "name": "stdout",
     "output_type": "stream",
     "text": [
      "Accuracy score: 0.7708333333333334\n",
      "Precision score: 0.8771929824561403\n",
      "Recall score: 0.7692307692307693\n",
      "F1 score: 0.819672131147541\n"
     ]
    }
   ],
   "source": [
    "from sklearn.metrics import accuracy_score, precision_score, recall_score, f1_score\n",
    "print('Accuracy score: {}'.format(accuracy_score(y_test, y_pred)))\n",
    "print('Precision score: {}'.format(precision_score(y_test, y_pred,pos_label=0)))\n",
    "print('Recall score: {}'.format(recall_score(y_test, y_pred,pos_label=0)))\n",
    "print('F1 score: {}'.format(f1_score(y_test, y_pred,pos_label=0)))"
   ]
  },
  {
   "cell_type": "code",
   "execution_count": 32,
   "id": "d445778a",
   "metadata": {},
   "outputs": [
    {
     "data": {
      "text/plain": [
       "[array([[-3.78389441e-05, -1.48773521e-01,  1.04674344e-01,\n",
       "         -1.04935122e-01, -2.99882290e-01, -3.93609814e-01,\n",
       "         -2.28077829e-01,  3.67296553e-01],\n",
       "        [ 9.96125868e-03, -2.56640359e-01, -3.09875301e-01,\n",
       "         -5.04773304e-01, -1.92748762e-01, -8.31762936e-02,\n",
       "          5.55781636e-01,  1.72030272e-01],\n",
       "        [-2.01452046e-02,  3.93862201e-01,  3.63159551e-01,\n",
       "         -1.40234636e-01,  1.13389599e-01,  1.88334899e-01,\n",
       "          3.44996304e-01,  3.03722050e-01],\n",
       "        [ 5.07920901e-07, -5.70131604e-03,  2.16905318e-01,\n",
       "         -4.23956714e-01,  2.63165756e-01, -8.98731401e-01,\n",
       "         -9.37250592e-02, -4.60056826e-01],\n",
       "        [ 6.65076916e-25,  4.23939455e-01,  5.64474177e-01,\n",
       "         -3.44169866e-01, -7.34109917e-02, -3.63067964e-02,\n",
       "          5.62250250e-01, -3.83490854e-01],\n",
       "        [-2.27768652e-02, -4.20673116e-01, -3.64540077e-01,\n",
       "          3.99287481e-01, -8.04616987e-02,  2.71102380e-01,\n",
       "          7.47420527e-01, -1.09429241e+00],\n",
       "        [-9.80810826e-05, -1.24998978e-01,  1.61590338e-01,\n",
       "         -3.83198547e-01, -2.91394080e-01, -2.85990995e-01,\n",
       "          1.74485167e-01, -4.61284160e-01],\n",
       "        [-1.01132590e-03, -9.11092311e-01,  8.24585740e-01,\n",
       "          3.43230337e-01, -5.70355693e-01,  1.21321332e-02,\n",
       "          1.01389397e-01,  1.22590829e-01]]),\n",
       " array([[ 5.23754199e-25,  1.07193292e-15,  4.83042826e-12,\n",
       "          5.25141299e-27,  5.98663004e-05, -6.88002756e-03,\n",
       "          7.43940541e-04, -6.54202099e-08],\n",
       "        [ 2.19462209e-01, -9.89352011e-01,  5.12554360e-01,\n",
       "         -5.30192575e-01,  9.95026976e-01, -8.12983030e-01,\n",
       "         -1.19716642e+00,  5.02360998e-01],\n",
       "        [ 5.22447958e-01, -6.72321597e-01,  2.39258834e-01,\n",
       "          1.40000777e-01,  1.07321191e-01,  5.37140755e-01,\n",
       "         -5.13518564e-01,  3.83778025e-01],\n",
       "        [ 4.67923714e-01, -5.11803540e-01, -5.87749500e-02,\n",
       "          7.62238488e-02,  5.57450507e-01,  4.49201635e-01,\n",
       "         -1.65348065e-01,  5.48430075e-01],\n",
       "        [-3.11073357e-01, -4.55202089e-01,  7.27310309e-01,\n",
       "          1.89177384e-01,  1.25986551e-01, -4.72359217e-01,\n",
       "         -4.76420734e-01, -4.68863256e-01],\n",
       "        [ 4.42948533e-01,  1.39291713e-01,  5.36299457e-01,\n",
       "          3.55658950e-01,  5.84870825e-02,  1.13206971e-01,\n",
       "         -5.22706097e-02, -5.34179167e-01],\n",
       "        [-1.20747433e-01,  7.86300855e-01, -4.32010511e-01,\n",
       "          4.41123366e-01, -4.36382360e-01,  3.53059023e-02,\n",
       "          4.43882455e-01,  7.04332998e-01],\n",
       "        [ 9.66813597e-01,  2.13624571e-01, -7.99651244e-01,\n",
       "         -6.18737282e-01, -1.45155040e+00, -1.01971513e-01,\n",
       "          1.53485895e-01,  5.86602110e-01]]),\n",
       " array([[-0.11493544, -0.35090308,  0.47055841,  0.5494326 , -0.08432408,\n",
       "         -0.00978243,  0.2247185 ,  0.35851567],\n",
       "        [ 0.16537452, -1.06825272, -0.53467756, -0.05442964, -0.57054256,\n",
       "          0.65496559,  0.51583096, -1.14726061],\n",
       "        [-0.1222461 ,  0.47172596, -0.65341014,  0.28070421,  0.54562346,\n",
       "          0.056884  , -0.14818145,  0.865748  ],\n",
       "        [-0.00886092, -0.08107888,  0.02872322, -0.69037621, -0.0337664 ,\n",
       "          0.5397509 , -0.04094032, -0.23810613],\n",
       "        [ 0.04344225,  1.18178477,  0.26310349, -0.05868215,  0.34596548,\n",
       "         -0.46870952, -0.09715114,  1.25742853],\n",
       "        [-0.08812558,  0.55355412, -0.10515747, -0.6304888 ,  0.44499215,\n",
       "          0.03816754, -0.12242954,  0.43633938],\n",
       "        [-0.55927934,  0.17050216, -0.23890943, -0.31359714, -0.46374999,\n",
       "          0.41704044,  0.61762392, -0.37893407],\n",
       "        [-0.06579415, -0.40981849, -0.31531257,  0.01013807, -0.03639187,\n",
       "          0.64061056,  0.54333729,  0.3766371 ]]),\n",
       " array([[-0.43063404],\n",
       "        [-0.44029478],\n",
       "        [ 0.0278544 ],\n",
       "        [ 0.71958638],\n",
       "        [-0.59380622],\n",
       "        [ 0.19078291],\n",
       "        [ 0.82951279],\n",
       "        [-1.37949178]])]"
      ]
     },
     "execution_count": 32,
     "metadata": {},
     "output_type": "execute_result"
    }
   ],
   "source": [
    "classifier.coefs_\n",
    "##classifier.intercepts_"
   ]
  },
  {
   "cell_type": "code",
   "execution_count": 33,
   "id": "d63a6de3",
   "metadata": {},
   "outputs": [
    {
     "data": {
      "text/plain": [
       "[array([-0.31236649,  0.54688598,  0.2788939 ,  0.56783814,  0.24271923,\n",
       "         0.50895853, -0.05189872, -0.16068182]),\n",
       " array([-0.19917048,  0.17713903,  0.25774697,  0.40233587,  0.45253042,\n",
       "        -0.51788796,  0.67470003,  0.30239471]),\n",
       " array([ 0.29568268,  0.66821037,  0.1193819 ,  0.29473809,  0.65290523,\n",
       "         0.29831843, -0.01512456,  0.52732765]),\n",
       " array([0.39373492])]"
      ]
     },
     "execution_count": 33,
     "metadata": {},
     "output_type": "execute_result"
    }
   ],
   "source": [
    "classifier.intercepts_"
   ]
  },
  {
   "cell_type": "code",
   "execution_count": null,
   "id": "6edb970b",
   "metadata": {},
   "outputs": [],
   "source": []
  }
 ],
 "metadata": {
  "kernelspec": {
   "display_name": "Python 3 (ipykernel)",
   "language": "python",
   "name": "python3"
  },
  "language_info": {
   "codemirror_mode": {
    "name": "ipython",
    "version": 3
   },
   "file_extension": ".py",
   "mimetype": "text/x-python",
   "name": "python",
   "nbconvert_exporter": "python",
   "pygments_lexer": "ipython3",
   "version": "3.9.12"
  }
 },
 "nbformat": 4,
 "nbformat_minor": 5
}
