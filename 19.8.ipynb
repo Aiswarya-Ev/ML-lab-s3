{
 "cells": [
  {
   "cell_type": "code",
   "execution_count": 1,
   "id": "ee2c9a62",
   "metadata": {},
   "outputs": [
    {
     "name": "stdout",
     "output_type": "stream",
     "text": [
      "Array:\n",
      "[[1 2 8]\n",
      " [4 5 5]\n",
      " [9 2 5]]\n",
      "first column: [1 4 9]\n",
      "second column: [2 5 2]\n",
      "thrid column: [8 5 5]\n"
     ]
    }
   ],
   "source": [
    "#P13\n",
    "import numpy as np\n",
    "m=np.array([[1,2,8],[4,5,5],[9,2,5]])\n",
    "print(\"Array:\")\n",
    "print(m)\n",
    "print(\"first column:\",m[:,0])\n",
    "print(\"second column:\",m[:,1])\n",
    "print(\"thrid column:\",m[:,2])"
   ]
  },
  {
   "cell_type": "code",
   "execution_count": 4,
   "id": "fc2fd415",
   "metadata": {},
   "outputs": [
    {
     "name": "stdout",
     "output_type": "stream",
     "text": [
      "first matrix\n",
      "[[0 1 2]\n",
      " [3 4 5]\n",
      " [6 7 8]]\n",
      "second matrix\n",
      "[[1 1 1]\n",
      " [1 1 1]\n",
      " [1 1 1]]\n",
      "Matrix multiplication\n",
      "[[ 3  3  3]\n",
      " [12 12 12]\n",
      " [21 21 21]]\n",
      "Sum of Matrix\n",
      "[[1 2 3]\n",
      " [4 5 6]\n",
      " [7 8 9]]\n"
     ]
    }
   ],
   "source": [
    "#p14\n",
    "m1=np.arange(9).reshape(3,3)\n",
    "m2=np.ones((3,3),dtype=int)\n",
    "print(\"first matrix\")\n",
    "print(m1)\n",
    "print(\"second matrix\")\n",
    "print(m2)\n",
    "r1=np.matmul(m1,m2)\n",
    "print(\"Matrix multiplication\")\n",
    "print(r1)\n",
    "r2=m1+m2\n",
    "print(\"Sum of Matrix\")\n",
    "print(r2)"
   ]
  },
  {
   "cell_type": "code",
   "execution_count": 6,
   "id": "2d10e876",
   "metadata": {},
   "outputs": [
    {
     "name": "stdout",
     "output_type": "stream",
     "text": [
      "eigen values: [1. 1.]\n",
      "eigen vector: [[1. 0.]\n",
      " [0. 1.]]\n"
     ]
    }
   ],
   "source": [
    "#15\n",
    "m=np.array([[1,0],[0,1]])\n",
    "w,v=np.linalg.eig(m)\n",
    "print(\"eigen values:\",w)\n",
    "print(\"eigen vector:\",v)"
   ]
  },
  {
   "cell_type": "code",
   "execution_count": 10,
   "id": "59fa94c0",
   "metadata": {},
   "outputs": [
    {
     "name": "stdout",
     "output_type": "stream",
     "text": [
      "Matrix:\n",
      "[[1 0]\n",
      " [0 1]]\n",
      "inverse\n",
      "[[1. 0.]\n",
      " [0. 1.]]\n"
     ]
    }
   ],
   "source": [
    "#16\n",
    "print(\"Matrix:\")\n",
    "print(m)\n",
    "#m2=np.ones((3,3),dtype=int)\n",
    "print(\"inverse\")\n",
    "x=np.linalg.inv(m)\n",
    "print(x)"
   ]
  },
  {
   "cell_type": "code",
   "execution_count": 1,
   "id": "a3d79ad1",
   "metadata": {},
   "outputs": [],
   "source": [
    "import numpy as np  \n",
    "a = np.arange(1, 10)\n",
    "np.savetxt('file.txt', a, delimiter=',')"
   ]
  },
  {
   "cell_type": "code",
   "execution_count": 2,
   "id": "aedd7f23",
   "metadata": {},
   "outputs": [],
   "source": [
    "import numpy as np      \n",
    "data = np.array( [[10,20,30], [40,50,60], [70,80,90]] )\n",
    "np.savetxt(\"test.csv\", data, delimiter=\",\")"
   ]
  },
  {
   "cell_type": "code",
   "execution_count": 9,
   "id": "5979b9c3",
   "metadata": {},
   "outputs": [
    {
     "data": {
      "text/plain": [
       "array([[10, 20, 30],\n",
       "       [40, 50, 60],\n",
       "       [70, 80, 90]], dtype=int32)"
      ]
     },
     "execution_count": 9,
     "metadata": {},
     "output_type": "execute_result"
    }
   ],
   "source": [
    "#For reading txt/csv file\n",
    "import numpy as np \n",
    "np.loadtxt(open(\"test.csv\",\"rb\"),delimiter=\",\",dtype=np.int32)"
   ]
  },
  {
   "cell_type": "code",
   "execution_count": null,
   "id": "42edbbdb",
   "metadata": {},
   "outputs": [],
   "source": []
  }
 ],
 "metadata": {
  "kernelspec": {
   "display_name": "Python 3 (ipykernel)",
   "language": "python",
   "name": "python3"
  },
  "language_info": {
   "codemirror_mode": {
    "name": "ipython",
    "version": 3
   },
   "file_extension": ".py",
   "mimetype": "text/x-python",
   "name": "python",
   "nbconvert_exporter": "python",
   "pygments_lexer": "ipython3",
   "version": "3.9.12"
  }
 },
 "nbformat": 4,
 "nbformat_minor": 5
}
